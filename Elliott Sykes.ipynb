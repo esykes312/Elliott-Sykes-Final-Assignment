{
 "cells": [
  {
   "cell_type": "markdown",
   "id": "30c21af6",
   "metadata": {},
   "source": [
    "# Data Science Tools and Ecosystem"
   ]
  },
  {
   "cell_type": "markdown",
   "id": "1338b988",
   "metadata": {},
   "source": [
    "In this notebook, Data Science Tools and Ecosystem are summarized."
   ]
  },
  {
   "cell_type": "markdown",
   "id": "962f5729",
   "metadata": {},
   "source": [
    "**Objectives:**\n",
    "\n",
    "- List popular languages for Data Science\n",
    "- Explain the importance of libraries in Data Science\n",
    "- Discuss the steps involved in a Data Science project\n",
    "- Define supervised and unsupervised learning in Machine Learning\n",
    "- Demonstrate how to perform data analysis and visualization using Python and Pandas\n",
    "- Explain how to handle missing data and outliers in a dataset\n",
    "- Illustrate how to use Scikit-learn library to build Machine Learning models\n",
    "- Discuss common evaluation metrics used in Machine Learning\n",
    "- Describe how to deploy a Machine Learning model in a production environment."
   ]
  },
  {
   "cell_type": "markdown",
   "id": "eeb12448",
   "metadata": {},
   "source": [
    "Some of the popular languages that Data Scientists use are:\n",
    "\n",
    "1. Python - Python is a popular programming language used for data science due to its simplicity, versatility, and a wide range of libraries for data analysis and visualization. Its readability and ease of use make it an ideal choice for data scientists who are not necessarily experts in computer science.\n",
    "\n",
    "2. R - R is a programming language designed for statistical computing and graphics. It is widely used in data science for statistical analysis and visualization due to its powerful statistical libraries.\n",
    "\n",
    "3. SQL - SQL is a language used for managing and manipulating structured data. It is commonly used in data science to retrieve, filter, and transform data from databases.\n",
    "\n",
    "4. Scala - Scala is a programming language that runs on the Java Virtual Machine (JVM). It is used for distributed computing and big data processing due to its scalability, high performance, and compatibility with Java libraries.\n",
    "\n",
    "5. Julia - Julia is a high-level, high-performance programming language designed for scientific computing, numerical analysis, and data science. Its speed and performance make it a popular choice for data science tasks that require complex computations."
   ]
  },
  {
   "cell_type": "markdown",
   "id": "13ccb360",
   "metadata": {},
   "source": [
    "Some of the commonly used libraries used by Data Scientists include:\n",
    "\n",
    "1. NumPy - NumPy is a library for the Python programming language that provides support for large, multi-dimensional arrays and matrices, along with a large collection of mathematical functions to operate on them. It is a fundamental library for data manipulation in Python.\n",
    "\n",
    "2. Pandas - Pandas is a Python library used for data manipulation and analysis. It provides data structures for efficiently storing and manipulating large datasets, as well as a range of functions for data cleaning, preparation, and analysis.\n",
    "\n",
    "3. Matplotlib - Matplotlib is a Python library used for data visualization. It provides a range of functions for creating high-quality plots, charts, and graphs, and can be used to create custom visualizations that effectively communicate insights from large datasets.\n",
    "\n",
    "4. Scikit-learn - Scikit-learn is a Python library used for machine learning. It provides a range of algorithms and tools for classification, regression, clustering, and other machine learning tasks, making it a valuable resource for data scientists working on predictive analytics projects.\n",
    "\n",
    "5. TensorFlow - TensorFlow is a machine learning library developed by Google. It is designed to simplify the process of building and training machine learning models, and supports a wide range of applications, including image and speech recognition, natural language processing, and robotics."
   ]
  },
  {
   "cell_type": "markdown",
   "id": "f996c2c8",
   "metadata": {},
   "source": [
    "| Data Science Tools |\n",
    "| ------------------ |\n",
    "| Jupyter Notebook    |\n",
    "| RStudio             |\n",
    "| Spyder              |\n",
    "\n"
   ]
  },
  {
   "cell_type": "markdown",
   "id": "8ae45524",
   "metadata": {},
   "source": [
    "### Examples of Evaluating Arithmetic Expressions in Python\n",
    "\n",
    "Arithmetic expressions are commonly used in data science for performing mathematical calculations on numerical data. In Python, arithmetic operations can be performed using a range of operators, including addition (+), subtraction (-), multiplication (*), division (/), and exponentiation (**). \n",
    "\n",
    "Below are a few examples of evaluating arithmetic expressions in Python using these operators:\n",
    "\n",
    "- `3 + 4`: This expression adds the numbers 3 and 4 together, resulting in the value 7.\n",
    "\n",
    "- `5 * 2`: This expression multiplies the numbers 5 and 2 together, resulting in the value 10.\n",
    "\n",
    "- `12 / 3`: This expression divides the number 12 by 3, resulting in the value 4.\n",
    "\n",
    "- `2 ** 3`: This expression raises the number 2 to the power of 3, resulting in the value 8."
   ]
  },
  {
   "cell_type": "code",
   "execution_count": 3,
   "id": "f4c6e62e",
   "metadata": {},
   "outputs": [
    {
     "name": "stdout",
     "output_type": "stream",
     "text": [
      "17\n"
     ]
    }
   ],
   "source": [
    "# This is a simple arithmetic expression to multiply then add integers.\n",
    "result = (3 * 4) + 5\n",
    "print(result)\n"
   ]
  },
  {
   "cell_type": "code",
   "execution_count": 4,
   "id": "47276478",
   "metadata": {},
   "outputs": [
    {
     "name": "stdout",
     "output_type": "stream",
     "text": [
      "3.3333333333333335\n"
     ]
    }
   ],
   "source": [
    "# This will convert 200 minutes to hours by dividing by 60.\n",
    "hours = 200 / 60\n",
    "print(hours)\n"
   ]
  },
  {
   "cell_type": "markdown",
   "id": "a440bfa2",
   "metadata": {},
   "source": [
    "## Author\n",
    "Elliott Sykes"
   ]
  }
 ],
 "metadata": {
  "kernelspec": {
   "display_name": "Python 3 (ipykernel)",
   "language": "python",
   "name": "python3"
  },
  "language_info": {
   "codemirror_mode": {
    "name": "ipython",
    "version": 3
   },
   "file_extension": ".py",
   "mimetype": "text/x-python",
   "name": "python",
   "nbconvert_exporter": "python",
   "pygments_lexer": "ipython3",
   "version": "3.9.2"
  }
 },
 "nbformat": 4,
 "nbformat_minor": 5
}
